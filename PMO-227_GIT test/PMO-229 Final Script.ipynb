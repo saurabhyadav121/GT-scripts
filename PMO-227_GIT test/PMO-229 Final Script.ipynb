{
 "cells": [
  {
   "cell_type": "code",
   "execution_count": 19,
   "id": "4b46fb93",
   "metadata": {},
   "outputs": [],
   "source": [
    "import pandas as pd\n",
    "import numpy as np\n",
    "import re\n",
    "import os\n",
    "import subprocess\n",
    "import time\n",
    "from datetime import date, timedelta, datetime\n",
    "import sqlalchemy as a\n",
    "import boto3\n",
    "import s3fs\n",
    "import pandasql\n",
    "import sys\n",
    "from datetime import date, timedelta, datetime\n",
    "import copy\n",
    "from io import StringIO\n",
    "import io"
   ]
  },
  {
   "cell_type": "code",
   "execution_count": 20,
   "id": "5bf86824",
   "metadata": {},
   "outputs": [],
   "source": [
    "client = boto3.client('athena', region_name = 'us-east-1')"
   ]
  },
  {
   "cell_type": "code",
   "execution_count": 21,
   "id": "659c1a67",
   "metadata": {},
   "outputs": [],
   "source": [
    "#Function for starting athena query\n",
    "\n",
    "def run_query(query, database, s3_output):\n",
    "    print(s3_output)\n",
    "    client = boto3.client('athena', region_name = 'us-east-1')\n",
    "    response = client.start_query_execution(\n",
    "    QueryString=query,\n",
    "    QueryExecutionContext={\n",
    "        'Database': database\n",
    "           },\n",
    "    ResultConfiguration={\n",
    "            'OutputLocation': s3_output,\n",
    "            },\n",
    "    WorkGroup='insights_team'    \n",
    "    )\n",
    "       \n",
    "    print('Execution ID: ' + response['QueryExecutionId'])\n",
    "   \n",
    "    return response"
   ]
  },
  {
   "cell_type": "markdown",
   "id": "480168e3",
   "metadata": {},
   "source": [
    "# Before Guardrails data"
   ]
  },
  {
   "cell_type": "code",
   "execution_count": 22,
   "id": "0a950fbb",
   "metadata": {},
   "outputs": [],
   "source": [
    "# # Visits Before Guardrails-  July Month Data- ORC\n",
    "\n",
    "# os.environ['AWS_DEFAULT_REGION'] = 'us-east-1'\n",
    "# july_vis = wr.athena.read_sql_query(sql=\"\"\"\n",
    "# SELECT date(visit_date) as visit_date,campaign_id,ad_exposure_request_id,visit_uid, sum(visit) as visit\n",
    "# FROM store_visitation_intermediate_orc.store_visitation_intermediate_orc\n",
    "# where  lag_bucket_id not in ('-1','7','8')\n",
    "# and exposure_type = 'IMPRESSION'\n",
    "# and y = '2022'\n",
    "# and m >='07'\n",
    "# and visit_date>='2022-07-01'\n",
    "# and visit_date<='2022-07-31'\n",
    "# group by 1,2,3,4\n",
    "# \"\"\", database=\"saurabhyadav\",workgroup='insights_team')\n",
    "\n",
    "# july_vis.to_csv('s3://monet-etl/saurabhyadav/PMO-229/Visits_before_guardrails/y=2022/m=07/d=01/july_vis.csv',index=False,header=False)\n",
    "\n",
    "\n",
    "# # Visits Before Guardrails-  August Month Data- ORC\n",
    "\n",
    "# os.environ['AWS_DEFAULT_REGION'] = 'us-east-1'\n",
    "# aug_vis = wr.athena.read_sql_query(sql=\"\"\"\n",
    "# SELECT date(visit_date) as visit_date,campaign_id,ad_exposure_request_id,visit_uid, sum(visit) as visit\n",
    "# FROM store_visitation_intermediate_orc.store_visitation_intermediate_orc\n",
    "# where  lag_bucket_id not in ('-1','7','8')\n",
    "# and exposure_type = 'IMPRESSION'\n",
    "# and y = '2022'\n",
    "# and m >='07'\n",
    "# and visit_date>='2022-08-01'\n",
    "# and visit_date<='2022-08-31'\n",
    "# group by 1,2,3,4\n",
    "# \"\"\", database=\"saurabhyadav\",workgroup='insights_team')\n",
    "\n",
    "# aug_vis.to_csv('s3://monet-etl/saurabhyadav/PMO-229/Visits_before_guardrails/y=2022/m=08/d=01/aug_vis.csv',index=False,header=False)\n"
   ]
  },
  {
   "cell_type": "code",
   "execution_count": 23,
   "id": "4a3fe67d",
   "metadata": {},
   "outputs": [
    {
     "data": {
      "text/plain": [
       "datetime.date(2022, 9, 25)"
      ]
     },
     "execution_count": 23,
     "metadata": {},
     "output_type": "execute_result"
    }
   ],
   "source": [
    "date.today()"
   ]
  },
  {
   "cell_type": "code",
   "execution_count": 24,
   "id": "8d428d2e",
   "metadata": {},
   "outputs": [
    {
     "name": "stdout",
     "output_type": "stream",
     "text": [
      "2022-09-17\n",
      "2022-09-18\n",
      "2022-09-19\n",
      "2022-09-20\n",
      "2022-09-21\n",
      "2022-09-22\n",
      "2022-09-23\n",
      "2022-09-24\n"
     ]
    }
   ],
   "source": [
    "for i in range(8,0,-1):\n",
    "    dt=date.today()-timedelta(i)\n",
    "    print(dt)"
   ]
  },
  {
   "cell_type": "code",
   "execution_count": 25,
   "id": "952c799a",
   "metadata": {
    "scrolled": true
   },
   "outputs": [
    {
     "name": "stdout",
     "output_type": "stream",
     "text": [
      "2022-09-17\n",
      "\n",
      "    with base2 as \n",
      "    (select *,from_unixtime ((header.timestamp-14400000)/1000 ) as vis_dt,\n",
      "    from_unixtime ((header.timestamp- cmp.header.timestamp)/1000) as lag,cmp.campaign_id as campaign_id,\n",
      "    cmp.header.request_id as adx_req_id\n",
      "    from raw_conversion_tracking.conversion_enigma_event_v2_conversiontracking\n",
      "    CROSS JOIN unnest(ad_exposure) AS adx (cmp)\n",
      "    CROSS JOIN unnest(poi_attribution) AS poa (po)\n",
      "    where cmp.is_latest=TRUE \n",
      "    and poi_attribution is not null\n",
      "    and cmp.event_type='IMPRESSION'\n",
      "    and (cmp.conversion_type='STORE' or cmp.conversion_type is null)\n",
      "    and y='2022' and m IN ('09','10') and concat(m,d) NOT IN ('0925'))\n",
      "    \n",
      "    select date(vis_dt) as visit_date,campaign_id,adx_req_id,uid,count(*) as vis_dummy\n",
      "    from base2 \n",
      "    where date(vis_dt)=date('2022-09-17') and day(lag)<=14\n",
      "    group by 1,2,3,4\n",
      "    \n",
      "    \n"
     ]
    },
    {
     "data": {
      "application/javascript": [
       "\n",
       "        if (window._pyforest_update_imports_cell) { window._pyforest_update_imports_cell('import awswrangler as wr'); }\n",
       "    "
      ],
      "text/plain": [
       "<IPython.core.display.Javascript object>"
      ]
     },
     "metadata": {},
     "output_type": "display_data"
    },
    {
     "name": "stdout",
     "output_type": "stream",
     "text": [
      "s3://monet-etl/saurabhyadav/PMO-229/Visits_before_guardrails/\n",
      "Execution ID: 1a1b9f5d-ddb2-42ab-99f1-f0aec4d18a6d\n",
      "2022-09-18\n",
      "\n",
      "    with base2 as \n",
      "    (select *,from_unixtime ((header.timestamp-14400000)/1000 ) as vis_dt,\n",
      "    from_unixtime ((header.timestamp- cmp.header.timestamp)/1000) as lag,cmp.campaign_id as campaign_id,\n",
      "    cmp.header.request_id as adx_req_id\n",
      "    from raw_conversion_tracking.conversion_enigma_event_v2_conversiontracking\n",
      "    CROSS JOIN unnest(ad_exposure) AS adx (cmp)\n",
      "    CROSS JOIN unnest(poi_attribution) AS poa (po)\n",
      "    where cmp.is_latest=TRUE \n",
      "    and poi_attribution is not null\n",
      "    and cmp.event_type='IMPRESSION'\n",
      "    and (cmp.conversion_type='STORE' or cmp.conversion_type is null)\n",
      "    and y='2022' and m IN ('09','10') and concat(m,d) NOT IN ('0925'))\n",
      "    \n",
      "    select date(vis_dt) as visit_date,campaign_id,adx_req_id,uid,count(*) as vis_dummy\n",
      "    from base2 \n",
      "    where date(vis_dt)=date('2022-09-18') and day(lag)<=14\n",
      "    group by 1,2,3,4\n",
      "    \n",
      "    \n"
     ]
    },
    {
     "data": {
      "application/javascript": [
       "\n",
       "        if (window._pyforest_update_imports_cell) { window._pyforest_update_imports_cell('import awswrangler as wr'); }\n",
       "    "
      ],
      "text/plain": [
       "<IPython.core.display.Javascript object>"
      ]
     },
     "metadata": {},
     "output_type": "display_data"
    },
    {
     "name": "stdout",
     "output_type": "stream",
     "text": [
      "s3://monet-etl/saurabhyadav/PMO-229/Visits_before_guardrails/\n",
      "Execution ID: b9b9b6e6-1c3e-4c5a-8843-52f12a1c0009\n",
      "2022-09-19\n",
      "\n",
      "    with base2 as \n",
      "    (select *,from_unixtime ((header.timestamp-14400000)/1000 ) as vis_dt,\n",
      "    from_unixtime ((header.timestamp- cmp.header.timestamp)/1000) as lag,cmp.campaign_id as campaign_id,\n",
      "    cmp.header.request_id as adx_req_id\n",
      "    from raw_conversion_tracking.conversion_enigma_event_v2_conversiontracking\n",
      "    CROSS JOIN unnest(ad_exposure) AS adx (cmp)\n",
      "    CROSS JOIN unnest(poi_attribution) AS poa (po)\n",
      "    where cmp.is_latest=TRUE \n",
      "    and poi_attribution is not null\n",
      "    and cmp.event_type='IMPRESSION'\n",
      "    and (cmp.conversion_type='STORE' or cmp.conversion_type is null)\n",
      "    and y='2022' and m IN ('09','10') and concat(m,d) NOT IN ('0925'))\n",
      "    \n",
      "    select date(vis_dt) as visit_date,campaign_id,adx_req_id,uid,count(*) as vis_dummy\n",
      "    from base2 \n",
      "    where date(vis_dt)=date('2022-09-19') and day(lag)<=14\n",
      "    group by 1,2,3,4\n",
      "    \n",
      "    \n"
     ]
    },
    {
     "data": {
      "application/javascript": [
       "\n",
       "        if (window._pyforest_update_imports_cell) { window._pyforest_update_imports_cell('import awswrangler as wr'); }\n",
       "    "
      ],
      "text/plain": [
       "<IPython.core.display.Javascript object>"
      ]
     },
     "metadata": {},
     "output_type": "display_data"
    },
    {
     "name": "stdout",
     "output_type": "stream",
     "text": [
      "s3://monet-etl/saurabhyadav/PMO-229/Visits_before_guardrails/\n",
      "Execution ID: 1675d163-fa14-4507-8857-671b03a5fc35\n",
      "2022-09-20\n",
      "\n",
      "    with base2 as \n",
      "    (select *,from_unixtime ((header.timestamp-14400000)/1000 ) as vis_dt,\n",
      "    from_unixtime ((header.timestamp- cmp.header.timestamp)/1000) as lag,cmp.campaign_id as campaign_id,\n",
      "    cmp.header.request_id as adx_req_id\n",
      "    from raw_conversion_tracking.conversion_enigma_event_v2_conversiontracking\n",
      "    CROSS JOIN unnest(ad_exposure) AS adx (cmp)\n",
      "    CROSS JOIN unnest(poi_attribution) AS poa (po)\n",
      "    where cmp.is_latest=TRUE \n",
      "    and poi_attribution is not null\n",
      "    and cmp.event_type='IMPRESSION'\n",
      "    and (cmp.conversion_type='STORE' or cmp.conversion_type is null)\n",
      "    and y='2022' and m IN ('09','10') and concat(m,d) NOT IN ('0925'))\n",
      "    \n",
      "    select date(vis_dt) as visit_date,campaign_id,adx_req_id,uid,count(*) as vis_dummy\n",
      "    from base2 \n",
      "    where date(vis_dt)=date('2022-09-20') and day(lag)<=14\n",
      "    group by 1,2,3,4\n",
      "    \n",
      "    \n"
     ]
    },
    {
     "data": {
      "application/javascript": [
       "\n",
       "        if (window._pyforest_update_imports_cell) { window._pyforest_update_imports_cell('import awswrangler as wr'); }\n",
       "    "
      ],
      "text/plain": [
       "<IPython.core.display.Javascript object>"
      ]
     },
     "metadata": {},
     "output_type": "display_data"
    },
    {
     "name": "stdout",
     "output_type": "stream",
     "text": [
      "s3://monet-etl/saurabhyadav/PMO-229/Visits_before_guardrails/\n",
      "Execution ID: 228588ff-7980-4acc-b7cf-9584a8bdf28d\n",
      "2022-09-21\n",
      "\n",
      "    with base2 as \n",
      "    (select *,from_unixtime ((header.timestamp-14400000)/1000 ) as vis_dt,\n",
      "    from_unixtime ((header.timestamp- cmp.header.timestamp)/1000) as lag,cmp.campaign_id as campaign_id,\n",
      "    cmp.header.request_id as adx_req_id\n",
      "    from raw_conversion_tracking.conversion_enigma_event_v2_conversiontracking\n",
      "    CROSS JOIN unnest(ad_exposure) AS adx (cmp)\n",
      "    CROSS JOIN unnest(poi_attribution) AS poa (po)\n",
      "    where cmp.is_latest=TRUE \n",
      "    and poi_attribution is not null\n",
      "    and cmp.event_type='IMPRESSION'\n",
      "    and (cmp.conversion_type='STORE' or cmp.conversion_type is null)\n",
      "    and y='2022' and m IN ('09','10') and concat(m,d) NOT IN ('0925'))\n",
      "    \n",
      "    select date(vis_dt) as visit_date,campaign_id,adx_req_id,uid,count(*) as vis_dummy\n",
      "    from base2 \n",
      "    where date(vis_dt)=date('2022-09-21') and day(lag)<=14\n",
      "    group by 1,2,3,4\n",
      "    \n",
      "    \n"
     ]
    },
    {
     "data": {
      "application/javascript": [
       "\n",
       "        if (window._pyforest_update_imports_cell) { window._pyforest_update_imports_cell('import awswrangler as wr'); }\n",
       "    "
      ],
      "text/plain": [
       "<IPython.core.display.Javascript object>"
      ]
     },
     "metadata": {},
     "output_type": "display_data"
    },
    {
     "name": "stdout",
     "output_type": "stream",
     "text": [
      "s3://monet-etl/saurabhyadav/PMO-229/Visits_before_guardrails/\n",
      "Execution ID: 47afc1cd-7aa3-412b-b567-0683f6cd1635\n",
      "2022-09-22\n",
      "\n",
      "    with base2 as \n",
      "    (select *,from_unixtime ((header.timestamp-14400000)/1000 ) as vis_dt,\n",
      "    from_unixtime ((header.timestamp- cmp.header.timestamp)/1000) as lag,cmp.campaign_id as campaign_id,\n",
      "    cmp.header.request_id as adx_req_id\n",
      "    from raw_conversion_tracking.conversion_enigma_event_v2_conversiontracking\n",
      "    CROSS JOIN unnest(ad_exposure) AS adx (cmp)\n",
      "    CROSS JOIN unnest(poi_attribution) AS poa (po)\n",
      "    where cmp.is_latest=TRUE \n",
      "    and poi_attribution is not null\n",
      "    and cmp.event_type='IMPRESSION'\n",
      "    and (cmp.conversion_type='STORE' or cmp.conversion_type is null)\n",
      "    and y='2022' and m IN ('09','10') and concat(m,d) NOT IN ('0925'))\n",
      "    \n",
      "    select date(vis_dt) as visit_date,campaign_id,adx_req_id,uid,count(*) as vis_dummy\n",
      "    from base2 \n",
      "    where date(vis_dt)=date('2022-09-22') and day(lag)<=14\n",
      "    group by 1,2,3,4\n",
      "    \n",
      "    \n"
     ]
    },
    {
     "data": {
      "application/javascript": [
       "\n",
       "        if (window._pyforest_update_imports_cell) { window._pyforest_update_imports_cell('import awswrangler as wr'); }\n",
       "    "
      ],
      "text/plain": [
       "<IPython.core.display.Javascript object>"
      ]
     },
     "metadata": {},
     "output_type": "display_data"
    },
    {
     "name": "stdout",
     "output_type": "stream",
     "text": [
      "s3://monet-etl/saurabhyadav/PMO-229/Visits_before_guardrails/\n",
      "Execution ID: 452cd9b8-8381-4712-b181-9ff7b78d2640\n",
      "2022-09-23\n",
      "\n",
      "    with base2 as \n",
      "    (select *,from_unixtime ((header.timestamp-14400000)/1000 ) as vis_dt,\n",
      "    from_unixtime ((header.timestamp- cmp.header.timestamp)/1000) as lag,cmp.campaign_id as campaign_id,\n",
      "    cmp.header.request_id as adx_req_id\n",
      "    from raw_conversion_tracking.conversion_enigma_event_v2_conversiontracking\n",
      "    CROSS JOIN unnest(ad_exposure) AS adx (cmp)\n",
      "    CROSS JOIN unnest(poi_attribution) AS poa (po)\n",
      "    where cmp.is_latest=TRUE \n",
      "    and poi_attribution is not null\n",
      "    and cmp.event_type='IMPRESSION'\n",
      "    and (cmp.conversion_type='STORE' or cmp.conversion_type is null)\n",
      "    and y='2022' and m IN ('09','10') and concat(m,d) NOT IN ('0925'))\n",
      "    \n",
      "    select date(vis_dt) as visit_date,campaign_id,adx_req_id,uid,count(*) as vis_dummy\n",
      "    from base2 \n",
      "    where date(vis_dt)=date('2022-09-23') and day(lag)<=14\n",
      "    group by 1,2,3,4\n",
      "    \n",
      "    \n"
     ]
    },
    {
     "data": {
      "application/javascript": [
       "\n",
       "        if (window._pyforest_update_imports_cell) { window._pyforest_update_imports_cell('import awswrangler as wr'); }\n",
       "    "
      ],
      "text/plain": [
       "<IPython.core.display.Javascript object>"
      ]
     },
     "metadata": {},
     "output_type": "display_data"
    },
    {
     "name": "stdout",
     "output_type": "stream",
     "text": [
      "s3://monet-etl/saurabhyadav/PMO-229/Visits_before_guardrails/\n",
      "Execution ID: f3c184e6-c6bf-46ff-afc6-84170e77350a\n",
      "2022-09-24\n",
      "\n",
      "    with base2 as \n",
      "    (select *,from_unixtime ((header.timestamp-14400000)/1000 ) as vis_dt,\n",
      "    from_unixtime ((header.timestamp- cmp.header.timestamp)/1000) as lag,cmp.campaign_id as campaign_id,\n",
      "    cmp.header.request_id as adx_req_id\n",
      "    from raw_conversion_tracking.conversion_enigma_event_v2_conversiontracking\n",
      "    CROSS JOIN unnest(ad_exposure) AS adx (cmp)\n",
      "    CROSS JOIN unnest(poi_attribution) AS poa (po)\n",
      "    where cmp.is_latest=TRUE \n",
      "    and poi_attribution is not null\n",
      "    and cmp.event_type='IMPRESSION'\n",
      "    and (cmp.conversion_type='STORE' or cmp.conversion_type is null)\n",
      "    and y='2022' and m IN ('09','10') and concat(m,d) NOT IN ('0925'))\n",
      "    \n",
      "    select date(vis_dt) as visit_date,campaign_id,adx_req_id,uid,count(*) as vis_dummy\n",
      "    from base2 \n",
      "    where date(vis_dt)=date('2022-09-24') and day(lag)<=14\n",
      "    group by 1,2,3,4\n",
      "    \n",
      "    \n"
     ]
    },
    {
     "data": {
      "application/javascript": [
       "\n",
       "        if (window._pyforest_update_imports_cell) { window._pyforest_update_imports_cell('import awswrangler as wr'); }\n",
       "    "
      ],
      "text/plain": [
       "<IPython.core.display.Javascript object>"
      ]
     },
     "metadata": {},
     "output_type": "display_data"
    },
    {
     "name": "stdout",
     "output_type": "stream",
     "text": [
      "s3://monet-etl/saurabhyadav/PMO-229/Visits_before_guardrails/\n",
      "Execution ID: 35dd77c1-5d41-4458-b0b2-52efa242821a\n"
     ]
    }
   ],
   "source": [
    "# Sept 1 onwards data from raw table\n",
    "\n",
    "for i in range(8,0,-1):\n",
    "    dt=dt.today()-timedelta(i)\n",
    "    print(dt)\n",
    "    y, m, d = str(dt).split('-')\n",
    "    y=str(dt.year)\n",
    "    m=str(dt.month)\n",
    "    m1=str(dt.month)\n",
    "    m2=str(dt.month+1)\n",
    "    d=str(dt.day)\n",
    "    if (len(m)==1):\n",
    "        m='0'+m\n",
    "    if(len(d)==1):\n",
    "        d='0'+d\n",
    "    if (len(m1)==1):\n",
    "        m1='0'+m1\n",
    "    if (len(m)==1):\n",
    "        m2='0'+m2\n",
    "    \n",
    "    dt2=dt.today()\n",
    "    y2, mn2, d2 = str(dt2).split('-')\n",
    "    y2=str(dt2.year)\n",
    "    mn2=str(dt2.month)\n",
    "    d2=str(dt2.day)\n",
    "    if (len(mn2)==1):\n",
    "        mn2='0'+mn2\n",
    "    if(len(d2)==1):\n",
    "        d2='0'+d2\n",
    "    e1=mn2+d2\n",
    "    \n",
    "    database = 'saurabhyadav'\n",
    "    query=\"\"\"\n",
    "    with base2 as \n",
    "    (select *,from_unixtime ((header.timestamp-14400000)/1000 ) as vis_dt,\n",
    "    from_unixtime ((header.timestamp- cmp.header.timestamp)/1000) as lag,cmp.campaign_id as campaign_id,\n",
    "    cmp.header.request_id as adx_req_id\n",
    "    from raw_conversion_tracking.conversion_enigma_event_v2_conversiontracking\n",
    "    CROSS JOIN unnest(ad_exposure) AS adx (cmp)\n",
    "    CROSS JOIN unnest(poi_attribution) AS poa (po)\n",
    "    where cmp.is_latest=TRUE \n",
    "    and poi_attribution is not null\n",
    "    and cmp.event_type='IMPRESSION'\n",
    "    and (cmp.conversion_type='STORE' or cmp.conversion_type is null)\n",
    "    and y='2022' and m IN ('{}','{}') and concat(m,d) NOT IN ('{}'))\n",
    "    \n",
    "    select date(vis_dt) as visit_date,campaign_id,adx_req_id,uid,count(*) as vis_dummy\n",
    "    from base2 \n",
    "    where date(vis_dt)=date('{}-{}-{}') and day(lag)<=14\n",
    "    group by 1,2,3,4\n",
    "    \n",
    "    \"\"\".format(m1,m2,e1,y,m,d)\n",
    "    print(query)\n",
    "    vis = wr.athena.read_sql_query(sql=query, database=\"saurabhyadav\",workgroup='insights_team')\n",
    "    vis.to_csv('s3://monet-etl/saurabhyadav/PMO-229/Visits_before_guardrails/y={}/m={}/d={}/visits.csv'.format(y,m,d),index=False,header=False)\n",
    "\n",
    "    #loading the data into the partitions \n",
    "    queryforcreatingtable = \"\"\"MSCK REPAIR TABLE saurabhyadav.Attributed_vis_before_guardrails;\"\"\"\n",
    "    res_us1 = run_query(queryforcreatingtable, database, 's3://monet-etl/saurabhyadav/PMO-229/Visits_before_guardrails/')\n",
    "    time.sleep(10)    \n",
    "    os.system('aws s3 rm s3://monet-etl/saurabhyadav/PMO-229/Visits_before_guardrails --recursive --exclude \"*\" --include \"*.metadata\"')\n",
    "    os.system('aws s3 rm s3://monet-etl/saurabhyadav/PMO-229/Visits_before_guardrails --recursive --exclude \"*\" --include \"*.txt\"')\n",
    "    time.sleep(10)\n"
   ]
  },
  {
   "cell_type": "markdown",
   "id": "88127a79",
   "metadata": {},
   "source": [
    "# After Guardrails data"
   ]
  },
  {
   "cell_type": "code",
   "execution_count": 26,
   "id": "7176f330",
   "metadata": {},
   "outputs": [],
   "source": [
    "# # Visits After Guardrails-  July Month Data- store_visitation_intermediate_orc.store_visitation_intermediate_orc_with_guardrails_pmo227\n",
    "\n",
    "# os.environ['AWS_DEFAULT_REGION'] = 'us-east-1'\n",
    "# july_vis2 = wr.athena.read_sql_query(sql=\"\"\"\n",
    "# SELECT date(visit_date) as visit_date,campaign_id,ad_exposure_request_id,visit_uid, sum(visit) as visit\n",
    "# FROM store_visitation_intermediate_orc.store_visitation_intermediate_orc_with_guardrails_pmo227\n",
    "# where  lag_bucket_id not in ('-1','7','8')\n",
    "# and exposure_type = 'IMPRESSION'\n",
    "# and y = '2022'\n",
    "# and m >='07'\n",
    "# and visit_date>='2022-07-01'\n",
    "# and visit_date<='2022-07-31'\n",
    "# group by 1,2,3,4\n",
    "# \"\"\", database=\"saurabhyadav\",workgroup='insights_team')\n",
    "\n",
    "# july_vis2.to_csv('s3://monet-etl/saurabhyadav/PMO-229/Visits_after_guardrails/y=2022/m=07/d=01/july_vis.csv',index=False,header=False)\n",
    "\n",
    "# # Visits After Guardrails-  Aug Month Data- store_visitation_intermediate_orc.store_visitation_intermediate_orc_with_guardrails_pmo227\n",
    "\n",
    "# os.environ['AWS_DEFAULT_REGION'] = 'us-east-1'\n",
    "# aug_vis2 = wr.athena.read_sql_query(sql=\"\"\"\n",
    "# SELECT date(visit_date) as visit_date,campaign_id,ad_exposure_request_id,visit_uid, sum(visit) as visit\n",
    "# FROM store_visitation_intermediate_orc.store_visitation_intermediate_orc_with_guardrails_pmo227\n",
    "# where  lag_bucket_id not in ('-1','7','8')\n",
    "# and exposure_type = 'IMPRESSION'\n",
    "# and y = '2022'\n",
    "# and m >='07'\n",
    "# and visit_date>='2022-08-01'\n",
    "# and visit_date<='2022-08-31'\n",
    "# group by 1,2,3,4\n",
    "# \"\"\", database=\"saurabhyadav\",workgroup='insights_team')\n",
    "\n",
    "# aug_vis2.to_csv('s3://monet-etl/saurabhyadav/PMO-229/Visits_after_guardrails/y=2022/m=08/d=01/aug_vis.csv',index=False,header=False)\n",
    "\n",
    "\n",
    "# # Sept 1-5 data from with_guardrails table\n",
    "\n",
    "# for i in range(12,7,-1):\n",
    "#     dt=today-timedelta(i)\n",
    "#     y, m, d = str(dt).split('-')\n",
    "#     y=str(dt.year)\n",
    "#     m=str(dt.month)\n",
    "#     m1=str(dt.month)\n",
    "#     m2=str(dt.month+1)\n",
    "#     d=str(dt.day)\n",
    "#     if (len(m)==1):\n",
    "#         m='0'+m\n",
    "#     if(len(d)==1):\n",
    "#         d='0'+d\n",
    "#     if (len(m1)==1):\n",
    "#         m1='0'+m1\n",
    "#     if (len(m)==1):\n",
    "#         m2='0'+m2\n",
    "#     database = 'saurabhyadav'\n",
    "#     query=\"\"\"\n",
    "#     SELECT date(visit_date) as visit_date,campaign_id,ad_exposure_request_id,visit_uid, sum(visit) as visit\n",
    "#     FROM store_visitation_intermediate_orc.store_visitation_intermediate_orc_with_guardrails_pmo227\n",
    "#     where  lag_bucket_id not in ('-1','7','8')\n",
    "#     and exposure_type = 'IMPRESSION'\n",
    "#     and y = '2022'\n",
    "#     and m IN ('{}','{}')\n",
    "#     and visit_date='{}-{}-{}'\n",
    "#     group by 1,2,3,4\n",
    "#     \"\"\".format(m1,m2,y,m,d)\n",
    "#     print(query)\n",
    "#     vis = wr.athena.read_sql_query(sql=query, database=\"saurabhyadav\",workgroup='insights_team')\n",
    "#     vis.to_csv('s3://monet-etl/saurabhyadav/PMO-229/Visits_after_guardrails/y={}/m={}/d={}/visits.csv'.format(y,m,d),index=False,header=False)\n",
    "\n",
    "#     #loading the data into the partitions \n",
    "#     queryforcreatingtable = \"\"\"MSCK REPAIR TABLE saurabhyadav.Attributed_vis_after_guardrails;\"\"\"\n",
    "#     res_us1 = run_query(queryforcreatingtable, database, 's3://monet-etl/saurabhyadav/PMO-229/Visits_after_guardrails/')\n",
    "#     time.sleep(10)    \n",
    "#     os.system('aws s3 rm s3://monet-etl/saurabhyadav/PMO-229/Visits_after_guardrails --recursive --exclude \"*\" --include \"*.metadata\"')\n",
    "#     os.system('aws s3 rm s3://monet-etl/saurabhyadav/PMO-229/Visits_after_guardrails --recursive --exclude \"*\" --include \"*.txt\"')\n",
    "#     time.sleep(10)\n",
    "\n"
   ]
  },
  {
   "cell_type": "code",
   "execution_count": 28,
   "id": "ab98d44b",
   "metadata": {
    "scrolled": true
   },
   "outputs": [
    {
     "name": "stdout",
     "output_type": "stream",
     "text": [
      "\n",
      "    SELECT date(visit_date) as visit_date,campaign_id,ad_exposure_request_id,visit_uid, sum(visit) as visit\n",
      "    FROM store_visitation_intermediate_orc.store_visitation_intermediate_orc\n",
      "    where  lag_bucket_id not in ('-1','7','8')\n",
      "    and exposure_type = 'IMPRESSION'\n",
      "    and y = '2022'\n",
      "    and m IN ('09','10')\n",
      "    and visit_date='2022-09-17'\n",
      "    group by 1,2,3,4\n",
      "    \n"
     ]
    },
    {
     "data": {
      "application/javascript": [
       "\n",
       "        if (window._pyforest_update_imports_cell) { window._pyforest_update_imports_cell('import awswrangler as wr'); }\n",
       "    "
      ],
      "text/plain": [
       "<IPython.core.display.Javascript object>"
      ]
     },
     "metadata": {},
     "output_type": "display_data"
    },
    {
     "name": "stdout",
     "output_type": "stream",
     "text": [
      "s3://monet-etl/saurabhyadav/PMO-229/Visits_after_guardrails/\n",
      "Execution ID: 208cdac8-b3a2-42f3-97dd-2b7ab9aed4f2\n",
      "\n",
      "    SELECT date(visit_date) as visit_date,campaign_id,ad_exposure_request_id,visit_uid, sum(visit) as visit\n",
      "    FROM store_visitation_intermediate_orc.store_visitation_intermediate_orc\n",
      "    where  lag_bucket_id not in ('-1','7','8')\n",
      "    and exposure_type = 'IMPRESSION'\n",
      "    and y = '2022'\n",
      "    and m IN ('09','10')\n",
      "    and visit_date='2022-09-18'\n",
      "    group by 1,2,3,4\n",
      "    \n"
     ]
    },
    {
     "data": {
      "application/javascript": [
       "\n",
       "        if (window._pyforest_update_imports_cell) { window._pyforest_update_imports_cell('import awswrangler as wr'); }\n",
       "    "
      ],
      "text/plain": [
       "<IPython.core.display.Javascript object>"
      ]
     },
     "metadata": {},
     "output_type": "display_data"
    },
    {
     "name": "stdout",
     "output_type": "stream",
     "text": [
      "s3://monet-etl/saurabhyadav/PMO-229/Visits_after_guardrails/\n",
      "Execution ID: f551cc37-6a16-4f42-a839-ac85eecc695d\n",
      "\n",
      "    SELECT date(visit_date) as visit_date,campaign_id,ad_exposure_request_id,visit_uid, sum(visit) as visit\n",
      "    FROM store_visitation_intermediate_orc.store_visitation_intermediate_orc\n",
      "    where  lag_bucket_id not in ('-1','7','8')\n",
      "    and exposure_type = 'IMPRESSION'\n",
      "    and y = '2022'\n",
      "    and m IN ('09','10')\n",
      "    and visit_date='2022-09-19'\n",
      "    group by 1,2,3,4\n",
      "    \n"
     ]
    },
    {
     "data": {
      "application/javascript": [
       "\n",
       "        if (window._pyforest_update_imports_cell) { window._pyforest_update_imports_cell('import awswrangler as wr'); }\n",
       "    "
      ],
      "text/plain": [
       "<IPython.core.display.Javascript object>"
      ]
     },
     "metadata": {},
     "output_type": "display_data"
    },
    {
     "name": "stdout",
     "output_type": "stream",
     "text": [
      "s3://monet-etl/saurabhyadav/PMO-229/Visits_after_guardrails/\n",
      "Execution ID: 5de0f62e-7fc1-41f6-b1c3-f1a3f75ab93b\n",
      "\n",
      "    SELECT date(visit_date) as visit_date,campaign_id,ad_exposure_request_id,visit_uid, sum(visit) as visit\n",
      "    FROM store_visitation_intermediate_orc.store_visitation_intermediate_orc\n",
      "    where  lag_bucket_id not in ('-1','7','8')\n",
      "    and exposure_type = 'IMPRESSION'\n",
      "    and y = '2022'\n",
      "    and m IN ('09','10')\n",
      "    and visit_date='2022-09-20'\n",
      "    group by 1,2,3,4\n",
      "    \n"
     ]
    },
    {
     "data": {
      "application/javascript": [
       "\n",
       "        if (window._pyforest_update_imports_cell) { window._pyforest_update_imports_cell('import awswrangler as wr'); }\n",
       "    "
      ],
      "text/plain": [
       "<IPython.core.display.Javascript object>"
      ]
     },
     "metadata": {},
     "output_type": "display_data"
    },
    {
     "name": "stdout",
     "output_type": "stream",
     "text": [
      "s3://monet-etl/saurabhyadav/PMO-229/Visits_after_guardrails/\n",
      "Execution ID: c8b102f7-3792-4b22-83b0-5f002e21731e\n",
      "\n",
      "    SELECT date(visit_date) as visit_date,campaign_id,ad_exposure_request_id,visit_uid, sum(visit) as visit\n",
      "    FROM store_visitation_intermediate_orc.store_visitation_intermediate_orc\n",
      "    where  lag_bucket_id not in ('-1','7','8')\n",
      "    and exposure_type = 'IMPRESSION'\n",
      "    and y = '2022'\n",
      "    and m IN ('09','10')\n",
      "    and visit_date='2022-09-21'\n",
      "    group by 1,2,3,4\n",
      "    \n"
     ]
    },
    {
     "data": {
      "application/javascript": [
       "\n",
       "        if (window._pyforest_update_imports_cell) { window._pyforest_update_imports_cell('import awswrangler as wr'); }\n",
       "    "
      ],
      "text/plain": [
       "<IPython.core.display.Javascript object>"
      ]
     },
     "metadata": {},
     "output_type": "display_data"
    },
    {
     "name": "stdout",
     "output_type": "stream",
     "text": [
      "s3://monet-etl/saurabhyadav/PMO-229/Visits_after_guardrails/\n",
      "Execution ID: 43d2f248-db42-4f14-8b33-67e29262288c\n",
      "\n",
      "    SELECT date(visit_date) as visit_date,campaign_id,ad_exposure_request_id,visit_uid, sum(visit) as visit\n",
      "    FROM store_visitation_intermediate_orc.store_visitation_intermediate_orc\n",
      "    where  lag_bucket_id not in ('-1','7','8')\n",
      "    and exposure_type = 'IMPRESSION'\n",
      "    and y = '2022'\n",
      "    and m IN ('09','10')\n",
      "    and visit_date='2022-09-22'\n",
      "    group by 1,2,3,4\n",
      "    \n"
     ]
    },
    {
     "data": {
      "application/javascript": [
       "\n",
       "        if (window._pyforest_update_imports_cell) { window._pyforest_update_imports_cell('import awswrangler as wr'); }\n",
       "    "
      ],
      "text/plain": [
       "<IPython.core.display.Javascript object>"
      ]
     },
     "metadata": {},
     "output_type": "display_data"
    },
    {
     "name": "stdout",
     "output_type": "stream",
     "text": [
      "s3://monet-etl/saurabhyadav/PMO-229/Visits_after_guardrails/\n",
      "Execution ID: c2276892-4040-4a88-adce-4597526c758d\n",
      "\n",
      "    SELECT date(visit_date) as visit_date,campaign_id,ad_exposure_request_id,visit_uid, sum(visit) as visit\n",
      "    FROM store_visitation_intermediate_orc.store_visitation_intermediate_orc\n",
      "    where  lag_bucket_id not in ('-1','7','8')\n",
      "    and exposure_type = 'IMPRESSION'\n",
      "    and y = '2022'\n",
      "    and m IN ('09','10')\n",
      "    and visit_date='2022-09-23'\n",
      "    group by 1,2,3,4\n",
      "    \n"
     ]
    },
    {
     "data": {
      "application/javascript": [
       "\n",
       "        if (window._pyforest_update_imports_cell) { window._pyforest_update_imports_cell('import awswrangler as wr'); }\n",
       "    "
      ],
      "text/plain": [
       "<IPython.core.display.Javascript object>"
      ]
     },
     "metadata": {},
     "output_type": "display_data"
    },
    {
     "name": "stdout",
     "output_type": "stream",
     "text": [
      "s3://monet-etl/saurabhyadav/PMO-229/Visits_after_guardrails/\n",
      "Execution ID: 793578eb-1fd3-439b-ab0c-40e5b75bc2be\n",
      "\n",
      "    SELECT date(visit_date) as visit_date,campaign_id,ad_exposure_request_id,visit_uid, sum(visit) as visit\n",
      "    FROM store_visitation_intermediate_orc.store_visitation_intermediate_orc\n",
      "    where  lag_bucket_id not in ('-1','7','8')\n",
      "    and exposure_type = 'IMPRESSION'\n",
      "    and y = '2022'\n",
      "    and m IN ('09','10')\n",
      "    and visit_date='2022-09-24'\n",
      "    group by 1,2,3,4\n",
      "    \n"
     ]
    },
    {
     "data": {
      "application/javascript": [
       "\n",
       "        if (window._pyforest_update_imports_cell) { window._pyforest_update_imports_cell('import awswrangler as wr'); }\n",
       "    "
      ],
      "text/plain": [
       "<IPython.core.display.Javascript object>"
      ]
     },
     "metadata": {},
     "output_type": "display_data"
    },
    {
     "name": "stdout",
     "output_type": "stream",
     "text": [
      "s3://monet-etl/saurabhyadav/PMO-229/Visits_after_guardrails/\n",
      "Execution ID: fec4a876-9e2f-4eea-8fc6-9cc9a803ea40\n"
     ]
    }
   ],
   "source": [
    "# Sept 6 onwards data from ORC table\n",
    "\n",
    "for i in range(8,0,-1):\n",
    "    dt=dt.today()-timedelta(i)\n",
    "    y, m, d = str(dt).split('-')\n",
    "    y=str(dt.year)\n",
    "    m=str(dt.month)\n",
    "    m1=str(dt.month)\n",
    "    m2=str(dt.month+1)\n",
    "    d=str(dt.day)\n",
    "    if (len(m)==1):\n",
    "        m='0'+m\n",
    "    if(len(d)==1):\n",
    "        d='0'+d\n",
    "    if (len(m1)==1):\n",
    "        m1='0'+m1\n",
    "    if (len(m)==1):\n",
    "        m2='0'+m2\n",
    "    database = 'saurabhyadav'\n",
    "    query=\"\"\"\n",
    "    SELECT date(visit_date) as visit_date,campaign_id,ad_exposure_request_id,visit_uid, sum(visit) as visit\n",
    "    FROM store_visitation_intermediate_orc.store_visitation_intermediate_orc\n",
    "    where  lag_bucket_id not in ('-1','7','8')\n",
    "    and exposure_type = 'IMPRESSION'\n",
    "    and y = '2022'\n",
    "    and m IN ('{}','{}')\n",
    "    and visit_date='{}-{}-{}'\n",
    "    group by 1,2,3,4\n",
    "    \"\"\".format(m1,m2,y,m,d)\n",
    "    print(query)\n",
    "    vis = wr.athena.read_sql_query(sql=query, database=\"saurabhyadav\",workgroup='insights_team')\n",
    "    vis.to_csv('s3://monet-etl/saurabhyadav/PMO-229/Visits_after_guardrails/y={}/m={}/d={}/visits.csv'.format(y,m,d),index=False,header=False)\n",
    "\n",
    "    #loading the data into the partitions \n",
    "    queryforcreatingtable = \"\"\"MSCK REPAIR TABLE saurabhyadav.Attributed_vis_after_guardrails;\"\"\"\n",
    "    res_us1 = run_query(queryforcreatingtable, database, 's3://monet-etl/saurabhyadav/PMO-229/Visits_after_guardrails/')\n",
    "    time.sleep(10)    \n",
    "    os.system('aws s3 rm s3://monet-etl/saurabhyadav/PMO-229/Visits_after_guardrails --recursive --exclude \"*\" --include \"*.metadata\"')\n",
    "    os.system('aws s3 rm s3://monet-etl/saurabhyadav/PMO-229/Visits_after_guardrails --recursive --exclude \"*\" --include \"*.txt\"')\n",
    "    time.sleep(10)\n"
   ]
  },
  {
   "cell_type": "code",
   "execution_count": null,
   "id": "e9e01164",
   "metadata": {},
   "outputs": [],
   "source": []
  },
  {
   "cell_type": "code",
   "execution_count": null,
   "id": "3a6c5995",
   "metadata": {},
   "outputs": [],
   "source": []
  },
  {
   "cell_type": "code",
   "execution_count": null,
   "id": "f18bac3f",
   "metadata": {},
   "outputs": [],
   "source": []
  },
  {
   "cell_type": "code",
   "execution_count": null,
   "id": "24bda0a5",
   "metadata": {},
   "outputs": [],
   "source": []
  },
  {
   "cell_type": "code",
   "execution_count": null,
   "id": "37ae7769",
   "metadata": {},
   "outputs": [],
   "source": []
  },
  {
   "cell_type": "code",
   "execution_count": null,
   "id": "d54fd936",
   "metadata": {},
   "outputs": [],
   "source": []
  },
  {
   "cell_type": "code",
   "execution_count": null,
   "id": "6db6fc57",
   "metadata": {},
   "outputs": [],
   "source": []
  },
  {
   "cell_type": "code",
   "execution_count": null,
   "id": "58b5a467",
   "metadata": {
    "scrolled": true
   },
   "outputs": [],
   "source": [
    "for i in range(70,0,-7):\n",
    "    dt=dt.today()-timedelta(i)\n",
    "    print(dt)\n",
    "    p3=(dt - timedelta(days=6))\n",
    "    print('P3= {}'.format(p3))\n",
    "    p7=dt\n",
    "    print('P7= {}'.format(p7))\n",
    "    p8=(dt-timedelta(days=4))\n",
    "    print('P8= {}'.format(p8))\n",
    "    \n",
    "    year1=str(dt.year)\n",
    "    month1=str(dt.month)\n",
    "    day1=str(dt.day)\n",
    "\n",
    "    if (len(month1)==1):\n",
    "        month1='0'+month1\n",
    "    if(len(day1)==1):\n",
    "        day1='0'+day1\n",
    "\n",
    "\n",
    "    write_log(\"\", logfile)\n",
    "    write_log(\"Dwell time Script Run on {} \".format(date_object.date()), logfile)\n",
    "\n",
    "\n",
    "    from datetime import datetime\n",
    "    nowbegining = datetime.now()\n",
    "\n",
    "\n",
    "    #Function for starting athena query\n",
    "    def run_query(query, database, s3_output):\n",
    "        print(s3_output)\n",
    "        client = boto3.client('athena', region_name = 'us-east-1')\n",
    "        response = client.start_query_execution(\n",
    "        QueryString=query,\n",
    "        QueryExecutionContext={\n",
    "            'Database': database\n",
    "               },\n",
    "        ResultConfiguration={\n",
    "                'OutputLocation': s3_output,\n",
    "                },\n",
    "        WorkGroup='insights_team'\n",
    "        )\n",
    "\n",
    "        print('Execution ID: ' + response['QueryExecutionId'])\n",
    "\n",
    "        return response\n",
    "\n",
    "\n",
    "    from datetime import datetime\n",
    "    nowbegining7 = datetime.now()\n",
    "    s3_output_ha = 's3://monet-etl/Suraaj/dwell_time/year={}/month={}/day={}/'.format(year1,month1,day1)\n",
    "    print(s3_output_ha)"
   ]
  },
  {
   "cell_type": "code",
   "execution_count": null,
   "id": "e7b6673c",
   "metadata": {
    "scrolled": true
   },
   "outputs": [],
   "source": [
    "\n",
    "# script - Importing required libraries\n",
    "import boto3\n",
    "import os\n",
    "import sys\n",
    "import time\n",
    "import datetime\n",
    "\n",
    "\n",
    "client = boto3.client('athena', region_name = 'us-east-1')\n",
    "logfile = \"/Users/saurabhyadav/Desktop/US_Visitation/Weekly_Report/new_script_logs.log\"\n",
    "#f = open(logfile, 'a')           # 'a' will append to an existing file if it exists\n",
    "def write_log(text, file):\n",
    "    f = open(file, 'a') \n",
    "    f.write(\"{}\\n\".format(text))  # write the text to the logfile and move to next line\n",
    "    return \n",
    "\n",
    "database = 'suraaj'\n",
    "\n",
    "#getting date from user\n",
    "from datetime import timedelta\n",
    "\n",
    "#date_entry = input('Enter a date in YYYY-MM-DD format') #-- input using notebook\n",
    "\n",
    "for i in range(70,0,-7):\n",
    "    dt=dt.today()-timedelta(i)\n",
    "    print(dt)\n",
    "    p3=(dt - timedelta(days=6))\n",
    "    print('P3= {}'.format(p3))\n",
    "    p7=dt\n",
    "    print('P7= {}'.format(p7))\n",
    "    p8=(dt-timedelta(days=4))\n",
    "    print('P8= {}'.format(p8))\n",
    "    \n",
    "    year1=str(dt.year)\n",
    "    month1=str(dt.month)\n",
    "    day1=str(dt.day)\n",
    "\n",
    "    if (len(month1)==1):\n",
    "        month1='0'+month1\n",
    "    if(len(day1)==1):\n",
    "        day1='0'+day1\n",
    "\n",
    "\n",
    "    write_log(\"\", logfile)\n",
    "    write_log(\"Dwell time Script Run on {} \".format(date_object.date()), logfile)\n",
    "\n",
    "\n",
    "    from datetime import datetime\n",
    "    nowbegining = datetime.now()\n",
    "\n",
    "\n",
    "    #Function for starting athena query\n",
    "    def run_query(query, database, s3_output):\n",
    "        print(s3_output)\n",
    "        client = boto3.client('athena', region_name = 'us-east-1')\n",
    "        response = client.start_query_execution(\n",
    "        QueryString=query,\n",
    "        QueryExecutionContext={\n",
    "            'Database': database\n",
    "               },\n",
    "        ResultConfiguration={\n",
    "                'OutputLocation': s3_output,\n",
    "                },\n",
    "        WorkGroup='insights_team'\n",
    "        )\n",
    "\n",
    "        print('Execution ID: ' + response['QueryExecutionId'])\n",
    "\n",
    "        return response\n",
    "\n",
    "\n",
    "    from datetime import datetime\n",
    "    nowbegining7 = datetime.now()\n",
    "    s3_output_ha = 's3://monet-etl/Suraaj/dwell_time/year={}/month={}/day={}/'.format(year1,month1,day1)\n",
    "    database='suraaj;'\n",
    "    q7=\"\"\" select dwell_time,count(*)\n",
    "    from\n",
    "    (select b.dwell_time,a.dt,a.uid,a.poi_hash from\n",
    "    (\n",
    "    (SELECT (extract(hour from timestamp)) as local_hour,dt,uid,poi_hash\n",
    "    from \"visit_store\".\"visitation_hourly_summary_us\" \n",
    "    where dt between '{p3}' and '{p8}'\n",
    "    and proximity_mode in (1,2)\n",
    "        and fence_type = 1 \n",
    "        and abnormal_req is null \n",
    "        group by 1,2,3,4)a\n",
    "    left join\n",
    "    (select dt,dwell_hour,uid,poi_hash,dwell_time\n",
    "    from \"dwell_time\".\"dwell_time_cntry_us\"\n",
    "    where dt between '{p3}' and '{p8}'\n",
    "    group by 1,2,3,4,5) b\n",
    "    on a.uid=b.uid\n",
    "    and a.poi_hash=b.poi_hash\n",
    "    and a.dt=b.dt\n",
    "    and a.local_hour =cast(b.dwell_hour as integer)\n",
    "    )\n",
    "    group by 1,2,3,4\n",
    "    )\n",
    "    group by 1\n",
    "    having dwell_time=0\"\"\".format_map({'p3':p3, 'p8':p8})\n",
    "\n",
    "    print()\n",
    "    print(\"Executing dwell time query: {}\".format(q7))\n",
    "    result7 = run_query(q7, database, s3_output_ha)\n",
    "\n",
    "    q_visits_status7='QUEUED'\n",
    "    while(q_visits_status7 in ['QUEUED','RUNNING']):\n",
    "            time.sleep(1)\n",
    "            q_visits_status7 = client.get_query_execution(QueryExecutionId = result7['QueryExecutionId'])['QueryExecution']['Status']['State']\n",
    "    ##### 2nd half of the query\n",
    "    s3_output_ha = 's3://monet-etl/Suraaj/dwell_time/year={}/month={}/day={}/'.format(year1,month1,day1)\n",
    "    database='suraaj;'\n",
    "    q8=\"\"\" select dwell_time,count(*)\n",
    "    from\n",
    "    (select b.dwell_time,a.dt,a.uid,a.poi_hash from\n",
    "    (\n",
    "    (SELECT (extract(hour from timestamp)) as local_hour,dt,uid,poi_hash\n",
    "    from \"visit_store\".\"visitation_hourly_summary_us\" \n",
    "    where dt > '{p8}' and dt <='{p7}'\n",
    "    and proximity_mode in (1,2)\n",
    "        and fence_type = 1 \n",
    "        and abnormal_req is null \n",
    "        group by 1,2,3,4)a\n",
    "    left join\n",
    "    (select dt,dwell_hour,uid,poi_hash,dwell_time\n",
    "    from \"dwell_time\".\"dwell_time_cntry_us\"\n",
    "    where dt > '{p8}' and dt <='{p7}'\n",
    "    group by 1,2,3,4,5) b\n",
    "    on a.uid=b.uid\n",
    "    and a.poi_hash=b.poi_hash\n",
    "    and a.dt=b.dt\n",
    "    and a.local_hour =cast(b.dwell_hour as integer)\n",
    "    )\n",
    "    group by 1,2,3,4\n",
    "    )\n",
    "    group by 1\n",
    "    having dwell_time=0\"\"\".format_map({'p8':p8, 'p7':p7})\n",
    "\n",
    "    print()\n",
    "    print(\"Executing dwell time query: {}\".format(q8))\n",
    "    result8 = run_query(q8, database, s3_output_ha)\n",
    "\n",
    "    q_visits_status8='QUEUED'\n",
    "    while(q_visits_status8 in ['QUEUED','RUNNING']):\n",
    "            time.sleep(1)\n",
    "            q_visits_status8 = client.get_query_execution(QueryExecutionId = result8['QueryExecutionId'])['QueryExecution']['Status']['State']\n",
    "\n",
    "\n",
    "    #######\n",
    "    #deleting the csv.metadata created in the process\n",
    "\n",
    "    os.system('aws s3 rm s3://monet-etl/Suraaj/dwell_time/ --recursive --exclude \"*\" --include \"*.metadata\"')\n",
    "\n",
    "    #loading the data into the partitions \n",
    "    queryforrepairingtable7 = \"\"\"MSCK REPAIR TABLE suraaj.dwell_time;\"\"\"\n",
    "    res_us7 = run_query(queryforrepairingtable7, database, 's3://monet-etl/Suraaj/dwell_time/')\n",
    "\n",
    "    os.system('aws s3 rm s3://monet-etl/Suraaj/dwell_time/ --recursive --exclude \"*\" --include \"*.metadata\"')\n",
    "    os.system('aws s3 rm s3://monet-etl/Suraaj/dwell_time/ --recursive --exclude \"*\" --include \"*.txt\"')\n",
    "\n",
    "    #logs \n",
    "    from datetime import datetime\n",
    "    nowlater7 = datetime.now() \n",
    "\n",
    "    print(\"started at\",nowbegining7)\n",
    "\n",
    "    if  q_visits_status7=='SUCCEEDED':\n",
    "        print(\"Dwell time script Succeded for first 3 and ended at \",nowlater7)\n",
    "        write_log(\"Dwell time script first 3 Succeded\",logfile)\n",
    "    else:\n",
    "        print(\"Dwell time script Failed\")\n",
    "        write_log(\"Dwell time script Failed {} \".format(date_object.date()), logfile)\n",
    "\n",
    "    if  q_visits_status8=='SUCCEEDED':\n",
    "        print(\"Dwell time script Succeded last 4 and ended at \",nowlater7)\n",
    "        write_log(\"Dwell time script Succeded\",logfile)\n",
    "    else:\n",
    "        print(\"Dwell time script Failed\")\n",
    "        write_log(\"Dwell time script last 4Failed {} \".format(date_object.date()), logfile)\n",
    "\n"
   ]
  },
  {
   "cell_type": "code",
   "execution_count": null,
   "id": "5c831015",
   "metadata": {},
   "outputs": [],
   "source": []
  },
  {
   "cell_type": "code",
   "execution_count": null,
   "id": "3c21a35d",
   "metadata": {},
   "outputs": [],
   "source": []
  },
  {
   "cell_type": "code",
   "execution_count": null,
   "id": "9f8192a9",
   "metadata": {},
   "outputs": [],
   "source": []
  },
  {
   "cell_type": "code",
   "execution_count": null,
   "id": "9eff6619",
   "metadata": {},
   "outputs": [],
   "source": []
  }
 ],
 "metadata": {
  "kernelspec": {
   "display_name": "Python 3",
   "language": "python",
   "name": "python3"
  },
  "language_info": {
   "codemirror_mode": {
    "name": "ipython",
    "version": 3
   },
   "file_extension": ".py",
   "mimetype": "text/x-python",
   "name": "python",
   "nbconvert_exporter": "python",
   "pygments_lexer": "ipython3",
   "version": "3.8.8"
  }
 },
 "nbformat": 4,
 "nbformat_minor": 5
}
